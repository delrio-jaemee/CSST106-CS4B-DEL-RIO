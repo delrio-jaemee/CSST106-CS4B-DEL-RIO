{
  "nbformat": 4,
  "nbformat_minor": 0,
  "metadata": {
    "colab": {
      "provenance": [],
      "include_colab_link": true
    },
    "kernelspec": {
      "name": "python3",
      "display_name": "Python 3"
    },
    "language_info": {
      "name": "python"
    }
  },
  "cells": [
    {
      "cell_type": "markdown",
      "metadata": {
        "id": "view-in-github",
        "colab_type": "text"
      },
      "source": [
        "<a href=\"https://colab.research.google.com/github/delrio-jaemee/CSST106-CS4B-DEL-RIO/blob/main/CSST106_Del_Rio.ipynb\" target=\"_parent\"><img src=\"https://colab.research.google.com/assets/colab-badge.svg\" alt=\"Open In Colab\"/></a>"
      ]
    },
    {
      "cell_type": "markdown",
      "source": [
        "Image Processing Techniques\n"
      ],
      "metadata": {
        "id": "CRVZRcSgTzpA"
      }
    },
    {
      "cell_type": "markdown",
      "source": [
        "1. Install OpenCV"
      ],
      "metadata": {
        "id": "oRaetFDZT6EQ"
      }
    },
    {
      "cell_type": "code",
      "source": [
        "!pip install opencv-python-headless"
      ],
      "metadata": {
        "id": "7nYoxwoHT9Oz"
      },
      "execution_count": null,
      "outputs": []
    },
    {
      "cell_type": "markdown",
      "source": [
        "2. Import Libraries"
      ],
      "metadata": {
        "id": "gRTMj-rYT_xK"
      }
    },
    {
      "cell_type": "code",
      "source": [
        "import cv2\n",
        "import numpy as np\n",
        "import matplotlib.pyplot as plt\n",
        "\n",
        "def display_image(img,title = \"Image\"):\n",
        "  plt.imshow(cv2.cvtColor(img,cv2.COLOR_BGR2RGB))\n",
        "  plt.title(title)\n",
        "  plt.axis('off')\n",
        "  plt.show()\n",
        "\n",
        "def display_images(img1, img2, title1 = \"Image1\", title2 = \"Image2\"):\n",
        "  plt.subplot(1,2,1)\n",
        "  plt.imshow(cv2.cvtColor(img1, cv2.COLOR_BGR2RGB))\n",
        "  plt.title(title1)\n",
        "  plt.axis('off')\n",
        "\n",
        "  plt.subplot(1,2,1)\n",
        "  plt.imshow(cv2.cvtColor(img2, cv2.COLOR_BGR2RGB))\n",
        "  plt.title(title2)\n",
        "  plt.axis('off')\n",
        "\n",
        "  plt.show()"
      ],
      "metadata": {
        "id": "q-3tTccXUCTp"
      },
      "execution_count": null,
      "outputs": []
    },
    {
      "cell_type": "markdown",
      "source": [
        "3. Load Image"
      ],
      "metadata": {
        "id": "x4ZnDn3OUGIc"
      }
    },
    {
      "cell_type": "code",
      "source": [
        "from google.colab import files\n",
        "from io import BytesIO\n",
        "from PIL import Image\n",
        "\n",
        "upload = files.upload()\n",
        "\n",
        "image_path = next(iter(upload))\n",
        "image = Image.open(BytesIO(upload[image_path]))"
      ],
      "metadata": {
        "id": "t6997hnmUJNb"
      },
      "execution_count": null,
      "outputs": []
    },
    {
      "cell_type": "markdown",
      "source": [
        "Exercise 1: Scaling and Rotation\n"
      ],
      "metadata": {
        "id": "xmG0W8ChUPCK"
      }
    },
    {
      "cell_type": "code",
      "source": [
        "def scale_image(img, scale_factor):\n",
        "  height, width = img.shape[:2]\n",
        "  scaled_img = cv2.resize(img, (int(width * scale_factor), int(height * scale_factor)), interpolation = cv2.INTER_LINEAR)\n",
        "  return scaled_img\n",
        "\n",
        "def rotate_image(img, angle):\n",
        "  height, width = img.shape[:2]\n",
        "  center = (width // 2, height //2)\n",
        "  matrix = cv2.getRotationMatrix2D(center, angle, 1.0)\n",
        "  rotated_img = cv2.warpAffine(img, matrix, (width, height))\n",
        "  return rotated_img\n",
        "\n",
        "scaled_image = scale_image(image, 0.5)\n",
        "display_image(scaled_image, \"Scaled Image(50%)\")\n",
        "\n",
        "rotated_image = rotate_image(image, 45)\n"
      ],
      "metadata": {
        "id": "NmeQGcxyUScq"
      },
      "execution_count": null,
      "outputs": []
    },
    {
      "cell_type": "markdown",
      "source": [
        "Execise 2: Blurring Techniques"
      ],
      "metadata": {
        "id": "wYro3RgNUVgI"
      }
    },
    {
      "cell_type": "code",
      "source": [
        "gaussian_blur = cv2.GaussianBlur(image, (11,11), 0) # odd numbers only\n",
        "display_image(gaussian_blur, \"Gaussian Blur\")\n",
        "\n",
        "median_blur = cv2.medianBlur(image, 11) # odd numbers only\n",
        "display_image(median_blur, \"Median Blur\")\n",
        "\n",
        "bilaterial_filter = cv2.bilateralFilter(image, 9, 75, 75)\n",
        "display_image(bilaterial_filter, \"Bilaterial Filter\")"
      ],
      "metadata": {
        "id": "wLgSdZHyUbS-"
      },
      "execution_count": null,
      "outputs": []
    }
  ]
}